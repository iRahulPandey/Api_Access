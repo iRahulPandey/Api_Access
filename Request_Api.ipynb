{
 "cells": [
  {
   "cell_type": "code",
   "execution_count": 3,
   "metadata": {},
   "outputs": [
    {
     "name": "stdout",
     "output_type": "stream",
     "text": [
      "Collecting requests\n",
      "  Downloading requests-2.27.1-py2.py3-none-any.whl (63 kB)\n",
      "Collecting charset-normalizer~=2.0.0\n",
      "  Downloading charset_normalizer-2.0.11-py3-none-any.whl (39 kB)\n",
      "Collecting idna<4,>=2.5\n",
      "  Using cached idna-3.3-py3-none-any.whl (61 kB)\n",
      "Requirement already satisfied: certifi>=2017.4.17 in c:\\users\\rahul\\anaconda3\\envs\\medium\\lib\\site-packages (from requests) (2020.6.20)\n",
      "Collecting urllib3<1.27,>=1.21.1\n",
      "  Downloading urllib3-1.26.8-py2.py3-none-any.whl (138 kB)\n",
      "Installing collected packages: urllib3, idna, charset-normalizer, requests\n",
      "Successfully installed charset-normalizer-2.0.11 idna-3.3 requests-2.27.1 urllib3-1.26.8\n"
     ]
    }
   ],
   "source": [
    "!pip install requests"
   ]
  },
  {
   "cell_type": "code",
   "execution_count": 27,
   "metadata": {},
   "outputs": [],
   "source": [
    "# reqquest library\n",
    "import requests\n",
    "import pandas as pd\n",
    "import json\n",
    "\n",
    "# url where model is hosted\n",
    "url = 'https://bostonappfastapi.herokuapp.com/predict' #'http://localhost:8000/predict'  # localhost and the defined port + endpoint\n",
    "\n",
    "# data to be sent to the model\n",
    "query = {\n",
    "  \"LSTAT\": 0,\n",
    "  \"INDUS\": 0,\n",
    "  \"NOX\": 1,\n",
    "  \"PTRATIO\": 0,\n",
    "  \"RM\": 0,\n",
    "  \"TAX\": 0,\n",
    "  \"DIS\": 0,\n",
    "  \"AGE\": 100\n",
    "}\n",
    "data = json.dumps(query)"
   ]
  },
  {
   "cell_type": "code",
   "execution_count": 28,
   "metadata": {},
   "outputs": [
    {
     "data": {
      "text/plain": [
       "32.94916666666666"
      ]
     },
     "execution_count": 28,
     "metadata": {},
     "output_type": "execute_result"
    }
   ],
   "source": [
    "# request\n",
    "r = requests.post(url, data)\n",
    "\n",
    "# result\n",
    "r.json()['prediction'][0]"
   ]
  },
  {
   "cell_type": "code",
   "execution_count": 26,
   "metadata": {},
   "outputs": [
    {
     "data": {
      "text/plain": [
       "dict_keys(['LSTAT', 'INDUS', 'NOX', 'PTRATIO', 'RM', 'TAX', 'DIS', 'AGE'])"
      ]
     },
     "execution_count": 26,
     "metadata": {},
     "output_type": "execute_result"
    }
   ],
   "source": [
    "query.keys()"
   ]
  },
  {
   "cell_type": "code",
   "execution_count": null,
   "metadata": {},
   "outputs": [],
   "source": [
    "for"
   ]
  }
 ],
 "metadata": {
  "interpreter": {
   "hash": "aba99c6e401ee5be8b1b79a1c8883e1416e6965c35952f9bb2f2a63153578377"
  },
  "kernelspec": {
   "display_name": "Python 3.10.0 64-bit ('medium': conda)",
   "language": "python",
   "name": "python3"
  },
  "language_info": {
   "codemirror_mode": {
    "name": "ipython",
    "version": 3
   },
   "file_extension": ".py",
   "mimetype": "text/x-python",
   "name": "python",
   "nbconvert_exporter": "python",
   "pygments_lexer": "ipython3",
   "version": "3.10.0"
  },
  "orig_nbformat": 4
 },
 "nbformat": 4,
 "nbformat_minor": 2
}
